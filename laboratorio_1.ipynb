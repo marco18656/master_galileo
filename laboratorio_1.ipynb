{
 "cells": [
  {
   "cell_type": "markdown",
   "metadata": {},
   "source": [
    "# Resumen de GIT\n",
    "\n",
    "## ¿Qué es GIT?\n",
    "GIT es un sistema de control de versiones de código fuente. Se utiliza para llevar un registro de los cambios realizados en un proyecto y hacer colaboración de manera eficiente con otros desarrolladores.\n",
    "\n",
    "\n",
    "### *¿Por qué es importante GIT?*\n",
    "- Ayuda a mantener un historial claro y organizado de todos los cambios realizados en un proyecto.\n",
    "- Facilita la colaboración con otros desarrolladores, permitiendo trabajar en el mismo proyecto de manera simultánea.\n",
    "- Permite revertir fácilmente a versiones previas del código en caso de errores o problemas.\n",
    "\n",
    "### Características principales de GIT\n",
    "- Distribuido: GIT es un sistema distribuido, lo que significa que cada desarrollador tiene una copia completa del repositorio en su computadora. Esto hace que sea fácil de trabajar de manera descentralizada y que no haya una única fuente de verdad.\n",
    "- Control de versiones: GIT permite a los desarrolladores mantener un seguimiento de todas las modificaciones realizadas en el código, lo que les permite revertir cambios en caso de ser necesario.\n",
    "- Ramas y merge: GIT permite trabajar en ramas separadas del proyecto y fusionarlas posteriormente, lo que hace que sea fácil trabajar en funcionalidades o características separadas sin afectar al código principal.\n",
    "- Integración continua: GIT es compatible con la mayoría de los servicios de integración continua, lo que permite a los desarrolladores probar y desplegar su código de manera automática y eficiente.\n",
    "\n",
    "### Ventajas de Git\n",
    "* Permite trabajar en equipo en proyectos grandes y complejos.\n",
    "* Facilita la colaboración y el intercambio de código entre desarrolladores.\n",
    "* Ofrece una gestión eficiente de versiones y un seguimiento de los cambios realizados en el código.\n",
    "* Permite revertir fácilmente a versiones previas del código en caso de errores o problemas.\n",
    "\n",
    "### Desventajas de usar GIT\n",
    "\n",
    "- Curva de aprendizaje: Aunque GIT es muy poderoso, su curva de aprendizaje puede ser un poco empinada al principio.\n",
    "- Comandos complejos: Algunos de los comandos de GIT pueden ser un poco complicados y requieren de un conocimiento previo de cómo funciona el sistema.\n",
    "\n",
    "\n",
    "### Proceso básico de trabajo con GIT\n",
    "1. Clonar un repositorio remoto a un directorio local.\n",
    "2. Crear una rama para realizar cambios.\n",
    "3. Realizar cambios y hacer commit de estos.\n",
    "4. Hacer push de los cambios a la rama correspondiente en el repositorio remoto.\n",
    "\n",
    "### El flujo de trabajo básico con GIT incluye los siguientes pasos:\n",
    "\n",
    "1. Clonar un repositorio: se descarga una copia del repositorio en local.\n",
    "2. Crear una rama: se crea una copia independiente del proyecto para realizar cambios sin afectar la rama principal.\n",
    "3. Realizar cambios: se realizan modificaciones en el código o se agrega nuevo código.\n",
    "4. Hacer un commit: se guardan los cambios realizados en la rama local.\n",
    "5. Hacer un push: se envían los cambios a la rama remota en el servidor.\n",
    "6. Hacer un pull request: se solicita la integración de los cambios a la rama principal.\n",
    "7. Realizar un merge: se integran los cambios de la rama a la rama principal.\n",
    "\n",
    "\n",
    "### Comandos útiles en GIT\n",
    "- `git clone`: Clona un repositorio remoto a un directorio local.\n",
    "- `git branch`: Crea o lista ramas en un proyecto.\n",
    "- `git checkout`: Mueve entre ramas o versiones de código.\n",
    "- `git add`: Agrega archivos a la zona de preparación para el siguiente commit.\n",
    "- `git commit`: Guarda los cambios realizados en la zona de preparación en el historial de versiones.\n",
    "- `git push`: Envía los cambios desde una rama local a una rama en el repositorio remoto.\n"
   ]
  },
  {
   "cell_type": "markdown",
   "metadata": {},
   "source": [
    "Algunos comandos básicos de GIT:\n",
    "\n",
    "1. Clonar un repositorio:\n",
    "2. Ver el estado de los archivos en el repositorio local:\n",
    "%git status\n",
    "3. Añadir cambios a un archivo:\n",
    "$git add <nombre del archivo>\n",
    "4. Hacer un commit con un mensaje descriptivo:\n",
    "$git commit -m \"Mensaje descriptivo\"\n",
    "5. Subir los cambios a un repositorio remoto:\n",
    "$git push origin <nombre de la rama>\n",
    "\n",
    "\n"
   ]
  },
  {
   "cell_type": "markdown",
   "metadata": {},
   "source": [
    "Tabla con información sobre GIT:\n",
    "\n",
    "| Característica | Descripción |\n",
    "| --- | --- |\n",
    "| Sistema de control de versiones | Permite llevar un registro de cambios en el código |\n",
    "| Colaboración | Permite trabajar en equipo en proyectos de manera eficiente |\n",
    "| Alojamiento | Se pueden alojar proyectos en plataformas como GitHub |"
   ]
  },
  {
   "cell_type": "markdown",
   "metadata": {},
   "source": [
    "## Tabla Comparativa de GitHub y GitLab\n",
    "\n",
    "| Característica | GitHub | GitLab |\n",
    "| --- | --- | --- |\n",
    "| Alojamiento | Alojado por Microsoft | Alojado por la empresa o en servidores privados |\n",
    "| Comunidad | Gran comunidad de desarrolladores y usuarios | Comunidad en crecimiento, pero aún menor que la de GitHub |\n",
    "| Funcionalidades | Alojamiento de repositorios, colaboración en proyectos, integración con herramientas externas, gestión de problemas, pull requests y documentación | Alojamiento de repositorios, colaboración en proyectos, integración con herramientas internas como CI/CD, gestión de problemas, pull requests, wiki y documentación |\n",
    "| Integración de CI/CD | Integración disponible a través de herramientas externas | Integración nativa con GitLab CI/CD |\n",
    "| Precios | Gratuito para repositorios públicos y planes premium para repositorios privados | Gratuito para proyectos personales y planes premium para proyectos empresariales |\n",
    "| Personalización | Limitada en comparación con GitLab | Mayor nivel de personalización y configuración |\n",
    "\n"
   ]
  },
  {
   "cell_type": "markdown",
   "metadata": {},
   "source": [
    "## Conclusiones\n",
    "\n",
    "En resumen, Git es una herramienta esencial para cualquier equipo de desarrollo de software que busca una gestión eficiente de versiones y una colaboración eficaz. Con sus características distribuidas, permite trabajar de manera concurrente en el mismo proyecto, revertir fácilmente a versiones previas y hacer seguimiento de los cambios realizados en el código."
   ]
  },
  {
   "cell_type": "markdown",
   "metadata": {},
   "source": [
    "Para mas información, visite alguno de los siguientes links: \n",
    "- [Página oficial de GIT](https://git-scm.com/)\n",
    "\n",
    "- [Tutorial en español de GIT](https://git-scm.com/book/es/v2)\n",
    "\n",
    "- [GitHub](https://github.com) es una plataforma en línea que ofrece alojamiento y herramientas para trabajar con proyectos de GIT."
   ]
  },
  {
   "cell_type": "markdown",
   "metadata": {},
   "source": [
    "__Imagen a través de un link:__\n",
    "\n",
    "![GIT logo](https://git-scm.com/images/logos/downloads/Git-Logo-1788C.png)"
   ]
  }
 ],
 "metadata": {
  "kernelspec": {
   "display_name": "Python 3.8.2 64-bit",
   "language": "python",
   "name": "python3"
  },
  "language_info": {
   "name": "python",
   "version": "3.8.2"
  },
  "orig_nbformat": 4,
  "vscode": {
   "interpreter": {
    "hash": "31f2aee4e71d21fbe5cf8b01ff0e069b9275f58929596ceb00d14d90e3e16cd6"
   }
  }
 },
 "nbformat": 4,
 "nbformat_minor": 2
}
