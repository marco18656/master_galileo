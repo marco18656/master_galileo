{
 "cells": [
  {
   "cell_type": "markdown",
   "metadata": {},
   "source": [
    "## Laboratorio #2, Ciencias de Datos en Python"
   ]
  },
  {
   "cell_type": "markdown",
   "metadata": {},
   "source": [
    "#### Ejercicio #1\n",
    "Haga un programa en Python que reciba de parámetro un nu ́mero de segundos y que despliegue en pantalla, las horas, minutos y segundos que representan. Por ejemplo:\n",
    "- Si el número de segundos recibidos fuera: 2743 entonces su programa deber ́ıa desplegar: Horas: 0, Minutos: 45 , Segundos: 43\n",
    "- Si el número de segundos recibidos fuera 5871: Horas: 1, Minutos: 37 , Segundos: 51\n",
    "- Recuerde manejar excepciones y errores que considere necesarios.\n"
   ]
  },
  {
   "cell_type": "code",
   "execution_count": 2,
   "metadata": {},
   "outputs": [],
   "source": [
    "def convertir_segundos(segundos):\n",
    "    try:\n",
    "        horas = segundos // 3600\n",
    "        minutos = (segundos % 3600) // 60\n",
    "        segundos = segundos % 60\n",
    "\n",
    "        print(f\"Horas: {horas}, Minutos: {minutos}, Segundos: {segundos}\")\n",
    "    except TypeError:\n",
    "        print(\"Debe ingresar un número entero de segundos\")"
   ]
  },
  {
   "cell_type": "code",
   "execution_count": 3,
   "metadata": {},
   "outputs": [
    {
     "name": "stdout",
     "output_type": "stream",
     "text": [
      "Horas: 6, Minutos: 19, Segundos: 43\n"
     ]
    }
   ],
   "source": [
    "convertir_segundos(22783)"
   ]
  },
  {
   "cell_type": "markdown",
   "metadata": {},
   "source": [
    "#### Ejercicio #2: \n",
    "Haga una función en Python que dado un número entre 1 y 20. Y un carácter cualquiera despliegue cuatro patrones triangulares."
   ]
  },
  {
   "cell_type": "code",
   "execution_count": 4,
   "metadata": {},
   "outputs": [
    {
     "name": "stdout",
     "output_type": "stream",
     "text": [
      "*  ****     *  ****\n",
      "**  ***    **   ***\n",
      "***  **   ***    **\n",
      "****  *  ****     *\n"
     ]
    }
   ],
   "source": [
    "def patrones_triangulares(numero, caracter):\n",
    "    if numero < 1 or numero > 20:\n",
    "        print(\"El número debe estar entre 1 y 20\")\n",
    "        return\n",
    "\n",
    "    patrones = [\n",
    "        [caracter * i for i in range(1, numero+1)],\n",
    "        [caracter * i for i in range(numero, 0, -1)],\n",
    "        [f\"{' ' * (numero-i)}{caracter * i}\" for i in range(1, numero+1)],\n",
    "        [f\"{' ' * (numero-i)}{caracter * i}\" for i in range(numero, 0, -1)]\n",
    "    ]\n",
    "\n",
    "    for fila in zip(*patrones):\n",
    "        print(\"  \".join(fila))\n",
    "\n",
    "# Ejemplo de uso\n",
    "patrones_triangulares(4, \"*\")\n"
   ]
  },
  {
   "cell_type": "code",
   "execution_count": 5,
   "metadata": {},
   "outputs": [
    {
     "name": "stdout",
     "output_type": "stream",
     "text": [
      "*     *  ****  ****  \n",
      "**    **  ***   ***  \n",
      "***   ***  **    **  \n",
      "****  ****  *     *  \n"
     ]
    }
   ],
   "source": [
    "import random\n",
    "\n",
    "def patrones_triangulares(numero, caracter):\n",
    "    if not isinstance(numero, int) or numero < 1 or numero > 20:\n",
    "        print(\"El número debe ser un entero entre 1 y 20\")\n",
    "        return\n",
    "\n",
    "    patrones = [\n",
    "        [caracter * i for i in range(1, numero+1)],\n",
    "        [caracter * i for i in range(numero, 0, -1)],\n",
    "        [f\"{' ' * (numero-i)}{caracter * i}\" for i in range(1, numero+1)],\n",
    "        [f\"{' ' * (numero-i)}{caracter * i}\" for i in range(numero, 0, -1)]\n",
    "    ]\n",
    "\n",
    "    patrones_aleatorios = []\n",
    "\n",
    "    while len(patrones_aleatorios) < 4:\n",
    "        patron = random.choice(patrones)\n",
    "        if patron not in patrones_aleatorios:\n",
    "            patrones_aleatorios.append(patron)\n",
    "\n",
    "    max_filas = max(len(patron) for patron in patrones_aleatorios)\n",
    "\n",
    "    for i in range(max_filas):\n",
    "        for patron in patrones_aleatorios:\n",
    "            fila = patron[i] if i < len(patron) else \" \" * numero\n",
    "            print(fila, end=\"  \")\n",
    "\n",
    "        print()\n",
    "\n",
    "# Ejemplo de uso\n",
    "patrones_triangulares(4, \"*\")\n"
   ]
  },
  {
   "cell_type": "markdown",
   "metadata": {},
   "source": [
    "#### Ejercicio #3: \n",
    "Haga un programa en Python que la fecha de nacimiento de una persona (puede ingresar por separado cada valor, es decir pedir primero día, luego mes y luego año).\n",
    "- Despliegue la edad de la persona en años, meses y días. Su resultado puede ser aproximado."
   ]
  },
  {
   "cell_type": "code",
   "execution_count": 10,
   "metadata": {},
   "outputs": [
    {
     "name": "stdout",
     "output_type": "stream",
     "text": [
      "Su edad es de 21 años, 9 meses y 3 días.\n"
     ]
    }
   ],
   "source": [
    "import datetime\n",
    "\n",
    "def calcular_edad():\n",
    "    while True:\n",
    "        try:\n",
    "            dia = int(input(\"Ingrese su día de nacimiento: \"))\n",
    "            if dia < 1 or dia > 31:\n",
    "                print(\"Día inválido. Intente de nuevo.\")\n",
    "                continue\n",
    "            mes = int(input(\"Ingrese su mes de nacimiento: \"))\n",
    "            if mes < 1 or mes > 12:\n",
    "                print(\"Mes inválido. Intente de nuevo.\")\n",
    "                continue\n",
    "            anio = int(input(\"Ingrese su año de nacimiento: \"))\n",
    "            if anio > datetime.date.today().year:\n",
    "                print(\"Año inválido. Intente de nuevo.\")\n",
    "                continue\n",
    "\n",
    "            fecha_nacimiento = datetime.date(anio, mes, dia)\n",
    "            edad = datetime.date.today() - fecha_nacimiento\n",
    "            anios = edad.days // 365\n",
    "            meses = (edad.days % 365) // 30\n",
    "            dias = (edad.days % 365) % 30\n",
    "\n",
    "            print(f\"Su edad es de {anios} años, {meses} meses y {dias} días.\")\n",
    "            break\n",
    "\n",
    "        except ValueError:\n",
    "            print(\"Entrada inválida. Intente de nuevo.\")\n",
    "            continue\n",
    "\n",
    "calcular_edad()\n"
   ]
  },
  {
   "attachments": {},
   "cell_type": "markdown",
   "metadata": {},
   "source": [
    "#### Ejercicio #4:\n",
    "Escriba una función en Python que dada una tupla de elementos (números o letras) esta se\n",
    "convierta a un string. Tomar nota del siguiente ejemplo:\n",
    " -  Si la entrada fuera: (10, 20, 40, 5, 70)\n",
    " - La salida debería ser: 102040570"
   ]
  },
  {
   "cell_type": "code",
   "execution_count": 25,
   "metadata": {},
   "outputs": [
    {
     "name": "stdout",
     "output_type": "stream",
     "text": [
      "1020405708090100\n"
     ]
    }
   ],
   "source": [
    "def tupla_a_string(tupla):\n",
    "    string = \"\"\n",
    "    for elemento in tupla:\n",
    "        string += str(elemento)\n",
    "    return string\n",
    "\n",
    "tupla = (10, 20, 40, 5, 70, 80,90,100)\n",
    "string_resultante = tupla_a_string(tupla)\n",
    "print(string_resultante)  \n"
   ]
  },
  {
   "attachments": {},
   "cell_type": "markdown",
   "metadata": {},
   "source": [
    "#### Ejercicio #5:\n",
    "Cree un programa en Python que dada una lista de tuplas, elimine las tuplas que están vacías.\n",
    "Tomar nota del siguiente ejemplo:\n",
    " - Si la lista fuera: [(), (), (’X’,), (’a’, ’b’), (’a’, ’b’, ’c’), (’d’)]\n",
    " - El resultado deber´ıa ser: [(’X’), (’a’, ’b’), (’a’, ’b’, ’c’), ’d’]\n"
   ]
  },
  {
   "cell_type": "code",
   "execution_count": 19,
   "metadata": {},
   "outputs": [
    {
     "data": {
      "text/plain": [
       "[('X',), ('a', 'b'), ('a', 'b', 'c'), 'd']"
      ]
     },
     "execution_count": 19,
     "metadata": {},
     "output_type": "execute_result"
    }
   ],
   "source": [
    "def eliminar_tuplas_vacias(lista):\n",
    "    return [tupla for tupla in lista if tupla]\n",
    "eliminar_tuplas_vacias([(), (), ('X',), ('a', 'b'), ('a', 'b', 'c'), ('d')])"
   ]
  },
  {
   "attachments": {},
   "cell_type": "markdown",
   "metadata": {},
   "source": [
    "#### Ejercicio #6:\n",
    "Cree una función en Python que dada una tupla de tuplas con números, produzca una tuplacon el promedio de cada tupla individual. Tomar nota del siguiente ejemplo:\n",
    " - Si la tupla de entrada fuera: ((10, 10, 10, 12), (30, 45, 56, 45), (81, 80, 39, 32))\n",
    " - El resultado deber´ıa ser: (10.5, 44, 58)\n"
   ]
  },
  {
   "cell_type": "code",
   "execution_count": 20,
   "metadata": {},
   "outputs": [
    {
     "name": "stdout",
     "output_type": "stream",
     "text": [
      "(10.5, 44.0, 58.0)\n"
     ]
    }
   ],
   "source": [
    "def promedio_tuplas(tupla):\n",
    "    promedios = []\n",
    "    for tup in tupla:\n",
    "        promedio = sum(tup) / len(tup)\n",
    "        promedios.append(promedio)\n",
    "    return tuple(promedios)\n",
    "\n",
    "tupla = ((10, 10, 10, 12), (30, 45, 56, 45), (81, 80, 39, 32))\n",
    "resultado = promedio_tuplas(tupla)\n",
    "print(resultado) \n"
   ]
  },
  {
   "attachments": {},
   "cell_type": "markdown",
   "metadata": {},
   "source": [
    "#### Ejercicio # 7\n",
    "Escribir un programa que gestione las facturas pendientes de cobro de una empresa. \n",
    "* Las facturas se almacenarán en un diccionario donde la llave de cada factura será el número defactura (debe utilizar un numero de 4 dígitos) y el valor el coste de la factura. \n",
    "* El programa debe preguntar al usuario si quiere añadir una nueva factura, pagar una existente o terminar.\n",
    "* Si desea añadir una nueva factura se preguntará por el número de factura y su coste y se añadira al diccionario, para confirmar que la factura se ingreso correctamente el programadebe desplegar el diccionario completo. \n",
    "* Si se desea pagar una factura se preguntará por el número de factura y se eliminará del diccionario. Después de cada operación el programa debe mostrar en pantalla la cantidad cobrada hasta el momento y la cantidad pendiente de cobro. \n",
    "* Puede utilizar otras estructuras de datos como apoyo si lo considera necesario."
   ]
  },
  {
   "cell_type": "code",
   "execution_count": 23,
   "metadata": {},
   "outputs": [
    {
     "name": "stdout",
     "output_type": "stream",
     "text": [
      "¿Qué acción deseas realizar?\n",
      "1. Añadir una nueva factura\n",
      "2. Pagar una factura existente\n",
      "3. Terminar\n",
      "Factura añadida correctamente:\n",
      "{'0001': 100.0}\n",
      "***************************************\n",
      "¿Qué acción deseas realizar?\n",
      "1. Añadir una nueva factura\n",
      "2. Pagar una factura existente\n",
      "3. Terminar\n",
      "Factura añadida correctamente:\n",
      "{'0001': 100.0, '0002': 300.0}\n",
      "***************************************\n",
      "¿Qué acción deseas realizar?\n",
      "1. Añadir una nueva factura\n",
      "2. Pagar una factura existente\n",
      "3. Terminar\n",
      "La factura 0002 por 300.0 ha sido pagada\n",
      "Cantidad cobrada hasta el momento: 300.0\n",
      "Cantidad pendiente de cobro: 100.0\n",
      "***************************************\n",
      "¿Qué acción deseas realizar?\n",
      "1. Añadir una nueva factura\n",
      "2. Pagar una factura existente\n",
      "3. Terminar\n"
     ]
    }
   ],
   "source": [
    "facturas = {}\n",
    "total_cobrado = 0\n",
    "\n",
    "while True:\n",
    "    print(\"¿Qué acción deseas realizar?\")\n",
    "    print(\"1. Añadir una nueva factura\")\n",
    "    print(\"2. Pagar una factura existente\")\n",
    "    print(\"3. Terminar\")\n",
    "    opcion = input(\"Ingresa el número de la acción que deseas realizar: \")\n",
    "    \n",
    "    if opcion == \"1\":\n",
    "        num_factura = input(\"Ingresa el número de factura (4 dígitos): \")\n",
    "        while len(num_factura) != 4 or not num_factura.isdigit():\n",
    "            print(\"Error: el número de factura debe ser de 4 dígitos\")\n",
    "            num_factura = input(\"Ingresa el número de factura (4 dígitos): \")\n",
    "        \n",
    "        coste = input(\"Ingresa el coste de la factura: \")\n",
    "        while not coste.replace('.', '', 1).isdigit():\n",
    "            print(\"Error: el coste de la factura debe ser un número válido\")\n",
    "            coste = input(\"Ingresa el coste de la factura: \")\n",
    "        \n",
    "        facturas[num_factura] = float(coste)\n",
    "        print(\"Factura añadida correctamente:\")\n",
    "        print(facturas)\n",
    "    \n",
    "    elif opcion == \"2\":\n",
    "        num_factura = input(\"Ingresa el número de factura que deseas pagar: \")\n",
    "        while num_factura not in facturas:\n",
    "            print(\"Error: el número de factura ingresado no existe\")\n",
    "            num_factura = input(\"Ingresa el número de factura que deseas pagar: \")\n",
    "        \n",
    "        coste = facturas[num_factura]\n",
    "        del facturas[num_factura]\n",
    "        total_cobrado += coste\n",
    "        print(f\"La factura {num_factura} por {coste} ha sido pagada\")\n",
    "        print(f\"Cantidad cobrada hasta el momento: {total_cobrado}\")\n",
    "        print(f\"Cantidad pendiente de cobro: {sum(facturas.values())}\")\n",
    "    \n",
    "    elif opcion == \"3\":\n",
    "        break\n",
    "    \n",
    "    else:\n",
    "        print(\"Opción inválida, por favor intenta nuevamente\")\n",
    "    \n",
    "    print(\"***************************************\")\n"
   ]
  },
  {
   "attachments": {},
   "cell_type": "markdown",
   "metadata": {},
   "source": [
    "#### Ejercicio # 8:\n",
    "Haga una función en Python, que cree un set con todas las cartas de una baraja de Pocker utilizando el siguiente formato: \n",
    " - Tipo-Numero. Utilice las letras T para treboles, C paracorazones, P para picas y E para espadas. \n",
    " - Para los numeros utilice la numeración del 1 al 13. Por ejemplo E13 - sería Rey de Espadas, P01 sería As de Picas, T05 sería cinco de Treboles.\n",
    " - Posteriormente cree una función que dado el conjunto anterior cree dos sets nuevos de cartas, cada conjunto debe tener una cantidad variable de elementos, puede utilizar nu´meros aleatorios enteros para definir la longitud de los conjuntos.\n",
    " - Adicionalmente, deberá calcular la probabilidad de la intersección de ambos conjuntos y demuestre si son eventos independientes con la regla del producto.\n",
    " - Para concluir, calcule probabilidad de la unión de ambos conjuntos y demuestre que se cumple la regla de la adición."
   ]
  },
  {
   "cell_type": "code",
   "execution_count": 38,
   "metadata": {},
   "outputs": [
    {
     "name": "stdout",
     "output_type": "stream",
     "text": [
      "Conjunto 1: {'C04', 'E01', 'T08', 'C01', 'T04', 'E10', 'T03', 'P11', 'T11', 'C13', 'T05', 'T12', 'C03', 'E13', 'E08', 'C11', 'C12', 'C05'}\n",
      "Conjunto 2: {'C04', 'E07', 'E04', 'T04', 'T10', 'E12', 'C13', 'T02', 'T07', 'E13', 'E11', 'P03', 'P02', 'C06', 'P10', 'P12', 'C07', 'E09'}\n",
      "Probabilidad de intersección: 0.012345679012345678\n",
      "Probabilidad de unión: 0.09876543209876543\n"
     ]
    }
   ],
   "source": [
    "import random\n",
    "\n",
    "def crear_baraja():\n",
    "    palos = ['T', 'C', 'P', 'E']\n",
    "    numeros = list(range(1, 14))\n",
    "    baraja = set()\n",
    "    for palo in palos:\n",
    "        for numero in numeros:\n",
    "            carta = '{}{:02d}'.format(palo, numero)\n",
    "            baraja.add(carta)\n",
    "    return baraja\n",
    "\n",
    "def crear_conjuntos(baraja):\n",
    "    num_cartas = random.randint(5, len(baraja)//2)\n",
    "    conjunto1 = set(random.sample(baraja, num_cartas))\n",
    "    conjunto2 = set(random.sample(baraja, num_cartas))\n",
    "    return conjunto1, conjunto2\n",
    "\n",
    "def probabilidad_interseccion(conjunto1, conjunto2):\n",
    "    interseccion = conjunto1 & conjunto2\n",
    "    prob_interseccion = len(interseccion) / len(conjunto1) / len(conjunto2)\n",
    "    return prob_interseccion\n",
    "\n",
    "def probabilidad_union(conjunto1, conjunto2):\n",
    "    union = conjunto1 | conjunto2\n",
    "    prob_union = len(union) / len(conjunto1) / len(conjunto2)\n",
    "    return prob_union\n",
    "\n",
    "baraja = crear_baraja()\n",
    "conjunto1, conjunto2 = crear_conjuntos(baraja)\n",
    "print(\"Conjunto 1:\", conjunto1)\n",
    "print(\"Conjunto 2:\", conjunto2)\n",
    "\n",
    "prob_interseccion = probabilidad_interseccion(conjunto1, conjunto2)\n",
    "print(\"Probabilidad de intersección:\", prob_interseccion)\n",
    "\n",
    "prob_union = probabilidad_union(conjunto1, conjunto2)\n",
    "print(\"Probabilidad de unión:\", prob_union)\n"
   ]
  },
  {
   "attachments": {},
   "cell_type": "markdown",
   "metadata": {},
   "source": [
    "Si, son independientes. "
   ]
  }
 ],
 "metadata": {
  "kernelspec": {
   "display_name": "base",
   "language": "python",
   "name": "python3"
  },
  "language_info": {
   "codemirror_mode": {
    "name": "ipython",
    "version": 3
   },
   "file_extension": ".py",
   "mimetype": "text/x-python",
   "name": "python",
   "nbconvert_exporter": "python",
   "pygments_lexer": "ipython3",
   "version": "3.7.6"
  },
  "orig_nbformat": 4,
  "vscode": {
   "interpreter": {
    "hash": "b16dfde266782e0bae18ec3c46978f6c662d7352725e9c68f6ebae22fb550fe6"
   }
  }
 },
 "nbformat": 4,
 "nbformat_minor": 2
}
